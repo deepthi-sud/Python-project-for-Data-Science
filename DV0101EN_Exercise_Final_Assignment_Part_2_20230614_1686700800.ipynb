{
  "nbformat": 4,
  "nbformat_minor": 0,
  "metadata": {
    "colab": {
      "provenance": []
    },
    "kernelspec": {
      "name": "python3",
      "display_name": "Python 3"
    },
    "language_info": {
      "name": "python"
    }
  },
  "cells": [
    {
      "cell_type": "code",
      "execution_count": null,
      "metadata": {
        "id": "UWq7s5vusgCs"
      },
      "outputs": [],
      "source": [
        "!pip install pyngrok"
      ]
    },
    {
      "cell_type": "code",
      "source": [
        "from pyngrok import ngrok\n",
        "ngrok.kill()\n",
        "NGROK_AUTH_TOKEN = \"2Irwzpl15ewCiLLfkoTaiQN0YS3_mfT7Grs29VK5VZ1j14N4\"\n",
        "ngrok.set_auth_token(NGROK_AUTH_TOKEN)\n",
        "ngrok.connect(8050)"
      ],
      "metadata": {
        "colab": {
          "base_uri": "https://localhost:8080/"
        },
        "id": "M-ZOuqIIsoYN",
        "outputId": "2aaca75b-4bd1-4aa2-ec8d-c05ec66ca624"
      },
      "execution_count": 48,
      "outputs": [
        {
          "output_type": "execute_result",
          "data": {
            "text/plain": [
              "<NgrokTunnel: \"https://5f99-34-172-148-246.ngrok-free.app\" -> \"http://localhost:8050\">"
            ]
          },
          "metadata": {},
          "execution_count": 48
        }
      ]
    },
    {
      "cell_type": "code",
      "source": [
        "!pip install dash\n",
        "!pip install plotly"
      ],
      "metadata": {
        "id": "HjdBdm6Ts1jG"
      },
      "execution_count": null,
      "outputs": []
    },
    {
      "cell_type": "code",
      "source": [
        "import dash\n",
        "from dash import dcc, html\n",
        "from dash.dependencies import Input, Output\n",
        "import pandas as pd\n",
        "import plotly.express as px\n",
        "\n",
        "# Define your DataFrame df here or import it from an appropriate source\n",
        "df = pd.read_csv('https://cf-courses-data.s3.us.cloud-object-storage.appdomain.cloud/IBMDeveloperSkillsNetwork-DV0101EN-SkillsNetwork/Data%20Files/historical_automobile_sales.csv')\n",
        "\n",
        "# Layout Section of Dash\n",
        "year_list = [i for i in range(1980, 2024, 1)]\n",
        "\n",
        "# Create a Dash application and give it a meaningful title\n",
        "app = dash.Dash(__name__)\n",
        "\n",
        "app.layout = html.Div(children=[\n",
        "    html.H1('Automobile Sales Statistics Dashboard',\n",
        "            style={'textAlign': 'center', 'color': '#503D36', 'font-size': 24}),\n",
        "\n",
        "    # outer division starts\n",
        "    html.Div([\n",
        "        # Add drop-down menus to your dashboard with appropriate titles and options\n",
        "        # Dropdown to select statistics\n",
        "        html.Div([\n",
        "            dcc.Dropdown(id='dropdown-statistics',\n",
        "                         options=[\n",
        "                             {'label': 'Yearly Statistics', 'value': 'Yearly Statistics'},\n",
        "                             {'label': 'Recession Period Statistics', 'value': 'Recession Period Statistics'}\n",
        "                         ],\n",
        "                         placeholder='Select a report type',\n",
        "                         value='Select Statistics',\n",
        "                         style={'width': '80%', 'font-size': '20px', 'padding': '3px', 'text-align-last': 'center'}\n",
        "                         )\n",
        "        ]),\n",
        "        # Dropdown to select year\n",
        "        html.Div([\n",
        "            dcc.Dropdown(id='select-year',\n",
        "                         options=[{'label': i, 'value': i} for i in year_list],\n",
        "                         placeholder='Select Year',\n",
        "                         style={'width': '80%', 'font-size': '20px', 'padding': '3px', 'text-align-last': 'center'}\n",
        "                         )]),\n",
        "\n",
        "        # Add a division for output display with appropriate id and classname property\n",
        "        html.Div([\n",
        "            html.Div(id='output-container', className='chart-grid', style={'display': 'flex'}),\n",
        "        ])\n",
        "    ])\n",
        "])\n",
        "\n",
        "# Creating Callbacks; Define the callback function to update the input container based on the selected statistics and the\n",
        "# output container\n",
        "\n",
        "@app.callback(\n",
        "    Output(component_id='select-year', component_property='disabled'),\n",
        "    Input(component_id='dropdown-statistics', component_property='value'))\n",
        "def update_input_container(dropdown_statistics):\n",
        "    if dropdown_statistics == 'Yearly Statistics':\n",
        "        return False\n",
        "    else:\n",
        "        return True\n",
        "\n",
        "\n",
        "# Callback for plotting\n",
        "@app.callback(\n",
        "    Output(component_id='output-container', component_property='children'),\n",
        "    [Input(component_id='select-year', component_property='value'),\n",
        "     Input(component_id='dropdown-statistics', component_property='value')])\n",
        "def update_output_container(select_year, dropdown_statistics):\n",
        "    if dropdown_statistics == 'Recession Period Statistics':\n",
        "        # Filter the data for recession periods\n",
        "        recession_data = df[df['Recession'] == 1]\n",
        "\n",
        "        # Plot 1 Automobile sales fluctuate over Recession Period (year wise) using line chart\n",
        "        # grouping data for plotting\n",
        "        yearly_rec = recession_data.groupby('Year')['Automobile_Sales'].mean().reset_index()\n",
        "        # Plotting the line graph\n",
        "        R_chart1 = dcc.Graph(\n",
        "            figure=px.line(yearly_rec,\n",
        "                            x='Year',\n",
        "                            y='Automobile_Sales',\n",
        "                            title=\"Automobile sales fluctuate over Recession Period (year wise)\"))\n",
        "         #Plot 2 Calculate the average number of vehicles sold by vehicle type and represent as a Bar chart\n",
        "        vehicle_avg_sales=recession_data.groupby('Vehicle_Type')['Automobile_Sales'].mean().reset_index()\n",
        "        R_chart2 =dcc.Graph(\n",
        "             figure=px.bar(vehicle_avg_sales,\n",
        "                          x='Vehicle_Type',\n",
        "                          y='Automobile_Sales',\n",
        "                          title='Average Number of Vehicles Sold by Vehicle Type (Recession Period)'))\n",
        "         # Plot 3 : Pie chart for total expenditure share by vehicle type during recessions\n",
        "            # grouping data for plotting\n",
        "        exp_rec= recession_data.groupby('Vehicle_Type')['Advertising_Expenditure'].sum().reset_index()\n",
        "        R_chart3 = dcc.Graph(\n",
        "                    figure=px.pie(exp_rec,\n",
        "                          values='Advertising_Expenditure',\n",
        "                          names='Vehicle_Type',\n",
        "                          title=\"Total expenditure share by vehicle type during recessions\"))\n",
        "\n",
        "        # Plot 4 Develop a Bar chart for the effect of unemployment rate on vehicle type and sales\n",
        "        R_chart4 = dcc.Graph(\n",
        "                     figure=px.bar(recession_data,\n",
        "                          x='unemployment_rate',\n",
        "                          y='Automobile_Sales',\n",
        "                          color='Vehicle_Type',  # Color by Vehicle_Type\n",
        "                          barmode='group',  # Group bars by unemployment_rate\n",
        "                          title=\"Effect of Unemployment Rate on Vehicle Type and Sales\"))\n",
        "        return [\n",
        "            html.Div(className='chart-item', children=[\n",
        "                html.Div(children=R_chart1),\n",
        "                html.Div(children=R_chart2)\n",
        "            ]),\n",
        "            html.Div(className='chart-item', children=[\n",
        "                html.Div(children=R_chart3),\n",
        "                html.Div(children=R_chart4)\n",
        "            ])\n",
        "        ]\n",
        "\n",
        "\n",
        "    elif select_year and dropdown_statistics == 'Yearly Statistics':\n",
        "        yearly_data = df[df['Year'] == select_year]\n",
        "        # Plot 1: Yearly Automobile sales using line chart for the whole period.\n",
        "\n",
        "        yas = df.groupby('Year')['Automobile_Sales'].mean().reset_index()\n",
        "        Y_chart1 = dcc.Graph(figure=px.line(yas, x='Year', y='Automobile_Sales', title='Total Yearly Automobiles sale'))\n",
        "\n",
        "        # Plot 2 :Total Monthly Automobile sales using line chart.\n",
        "        yas = df.groupby('Month')['Automobile_Sales'].mean().reset_index()\n",
        "        Y_chart2 = dcc.Graph(figure=px.line(yas, x='Month', y='Automobile_Sales', title='Total Monthly Automobiles sale'))\n",
        "        # Plot bar chart for average number of vehicles sold during the given year\n",
        "\n",
        "        avr_vdata=yearly_data.groupby('Vehicle_Type')['Automobile_Sales'].mean().reset_index()\n",
        "        Y_chart3 = dcc.Graph( figure=px.bar(avr_vdata,x='Vehicle_Type',y='Automobile_Sales',title='Average Vehicles Sold by Vehicle Type in the year {}'.format(select_year)))\n",
        "       # Plot 4 Total Advertisement Expenditure for each vehicle using pie chart\n",
        "        Y_chart4 = dcc.Graph(\n",
        "                    figure=px.pie(yearly_data,\n",
        "                          values='Advertising_Expenditure',\n",
        "                          names='Vehicle_Type',\n",
        "                          title=\"Total Advertisement Expenditure for each vehicle using pie chart\"))\n",
        "        return [\n",
        "            html.Div(className='chart-item', children=[\n",
        "                html.Div(children=Y_chart1),\n",
        "                html.Div(children=Y_chart2)\n",
        "            ]),\n",
        "            html.Div(className='chart-item', children=[\n",
        "                html.Div(children=Y_chart3),\n",
        "                html.Div(children=Y_chart4)\n",
        "            ])\n",
        "        ]\n",
        "    else:\n",
        "        return None\n",
        "\n",
        "if __name__ == '__main__':\n",
        "    app.run_server(debug=True)"
      ],
      "metadata": {
        "colab": {
          "base_uri": "https://localhost:8080/",
          "height": 672
        },
        "id": "XYc5y7qRpEcb",
        "outputId": "ed9a188a-4d5f-4c1c-9389-443f775bd367"
      },
      "execution_count": 92,
      "outputs": [
        {
          "output_type": "display_data",
          "data": {
            "text/plain": [
              "<IPython.core.display.Javascript object>"
            ],
            "application/javascript": [
              "(async (port, path, width, height, cache, element) => {\n",
              "    if (!google.colab.kernel.accessAllowed && !cache) {\n",
              "      return;\n",
              "    }\n",
              "    element.appendChild(document.createTextNode(''));\n",
              "    const url = await google.colab.kernel.proxyPort(port, {cache});\n",
              "    const iframe = document.createElement('iframe');\n",
              "    iframe.src = new URL(path, url).toString();\n",
              "    iframe.height = height;\n",
              "    iframe.width = width;\n",
              "    iframe.style.border = 0;\n",
              "    iframe.allow = [\n",
              "        'accelerometer',\n",
              "        'autoplay',\n",
              "        'camera',\n",
              "        'clipboard-read',\n",
              "        'clipboard-write',\n",
              "        'gyroscope',\n",
              "        'magnetometer',\n",
              "        'microphone',\n",
              "        'serial',\n",
              "        'usb',\n",
              "        'xr-spatial-tracking',\n",
              "    ].join('; ');\n",
              "    element.appendChild(iframe);\n",
              "  })(8050, \"/\", \"100%\", 650, false, window.element)"
            ]
          },
          "metadata": {}
        }
      ]
    }
  ]
}